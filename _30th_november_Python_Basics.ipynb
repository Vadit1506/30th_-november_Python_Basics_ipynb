{
 "cells": [
  {
   "cell_type": "code",
   "execution_count": 16,
   "id": "81eaebd0-afb9-4c9f-ba6a-90c7ff1916dd",
   "metadata": {},
   "outputs": [
    {
     "name": "stdin",
     "output_type": "stream",
     "text": [
      " 15\n",
      " 15\n"
     ]
    },
    {
     "name": "stdout",
     "output_type": "stream",
     "text": [
      "Area = 225\n"
     ]
    }
   ],
   "source": [
    "l = int(input())\n",
    "b = int(input())\n",
    "a = l * b\n",
    "print(\"Area =\", a)\n"
   ]
  },
  {
   "cell_type": "code",
   "execution_count": 9,
   "id": "30bc7f8a-cc3d-404d-b173-e015883405aa",
   "metadata": {},
   "outputs": [
    {
     "name": "stdout",
     "output_type": "stream",
     "text": [
      " x and y are 45 and 10\n",
      " x and y after swapping are 10 and 45\n"
     ]
    }
   ],
   "source": [
    "x = 45\n",
    "y = 10\n",
    "print(\" x and y are\",x,\"and\",y,)\n",
    "x,y = y,x\n",
    "print(\" x and y after swapping are\",x,\"and\",y,)"
   ]
  },
  {
   "cell_type": "code",
   "execution_count": 13,
   "id": "b856ea7d-ca5e-4621-84b7-e2a33d61af22",
   "metadata": {},
   "outputs": [
    {
     "name": "stdout",
     "output_type": "stream",
     "text": [
      "50.00 Celsius is equivalent to: 122.00 Fahrenheit\n"
     ]
    }
   ],
   "source": [
    "celsius = 50\n",
    "fahrenheit = (celsius * 1.8) + 32\n",
    "print('%.2f Celsius is equivalent to: %.2f Fahrenheit'\n",
    "      % (celsius, fahrenheit))"
   ]
  },
  {
   "cell_type": "code",
   "execution_count": 15,
   "id": "0a88c3cb-0420-4c0a-b806-95e12bcd3277",
   "metadata": {},
   "outputs": [
    {
     "name": "stdout",
     "output_type": "stream",
     "text": [
      "14\n"
     ]
    }
   ],
   "source": [
    "str = \"physics wallah\"\n",
    "print(len(str))"
   ]
  },
  {
   "cell_type": "code",
   "execution_count": 19,
   "id": "8782d0d0-c306-46ed-afc4-ece8f99c52d5",
   "metadata": {},
   "outputs": [
    {
     "ename": "AttributeError",
     "evalue": "'str' object has no attribute 'numbers'",
     "output_type": "error",
     "traceback": [
      "\u001b[0;31m---------------------------------------------------------------------------\u001b[0m",
      "\u001b[0;31mAttributeError\u001b[0m                            Traceback (most recent call last)",
      "Cell \u001b[0;32mIn[19], line 3\u001b[0m\n\u001b[1;32m      1\u001b[0m string \u001b[38;5;241m=\u001b[39m \u001b[38;5;124m\"\u001b[39m\u001b[38;5;124mphysics wallah\u001b[39m\u001b[38;5;124m\"\u001b[39m\n\u001b[1;32m      2\u001b[0m vowels \u001b[38;5;241m=\u001b[39m \u001b[38;5;124m\"\u001b[39m\u001b[38;5;124maeiouAEIOU\u001b[39m\u001b[38;5;124m\"\u001b[39m\n\u001b[0;32m----> 3\u001b[0m numbers \u001b[38;5;241m=\u001b[39m \u001b[38;5;28;43msum\u001b[39;49m\u001b[43m(\u001b[49m\u001b[43mstring\u001b[49m\u001b[38;5;241;43m.\u001b[39;49m\u001b[43mnumbers\u001b[49m\u001b[43m(\u001b[49m\u001b[43mvowel\u001b[49m\u001b[43m)\u001b[49m\u001b[43m \u001b[49m\u001b[38;5;28;43;01mfor\u001b[39;49;00m\u001b[43m \u001b[49m\u001b[43mvowel\u001b[49m\u001b[43m \u001b[49m\u001b[38;5;129;43;01min\u001b[39;49;00m\u001b[43m \u001b[49m\u001b[43mvowels\u001b[49m\u001b[43m)\u001b[49m\n\u001b[1;32m      4\u001b[0m \u001b[38;5;28mprint\u001b[39m(numbers)\n",
      "Cell \u001b[0;32mIn[19], line 3\u001b[0m, in \u001b[0;36m<genexpr>\u001b[0;34m(.0)\u001b[0m\n\u001b[1;32m      1\u001b[0m string \u001b[38;5;241m=\u001b[39m \u001b[38;5;124m\"\u001b[39m\u001b[38;5;124mphysics wallah\u001b[39m\u001b[38;5;124m\"\u001b[39m\n\u001b[1;32m      2\u001b[0m vowels \u001b[38;5;241m=\u001b[39m \u001b[38;5;124m\"\u001b[39m\u001b[38;5;124maeiouAEIOU\u001b[39m\u001b[38;5;124m\"\u001b[39m\n\u001b[0;32m----> 3\u001b[0m numbers \u001b[38;5;241m=\u001b[39m \u001b[38;5;28msum\u001b[39m(\u001b[43mstring\u001b[49m\u001b[38;5;241;43m.\u001b[39;49m\u001b[43mnumbers\u001b[49m(vowel) \u001b[38;5;28;01mfor\u001b[39;00m vowel \u001b[38;5;129;01min\u001b[39;00m vowels)\n\u001b[1;32m      4\u001b[0m \u001b[38;5;28mprint\u001b[39m(numbers)\n",
      "\u001b[0;31mAttributeError\u001b[0m: 'str' object has no attribute 'numbers'"
     ]
    }
   ],
   "source": [
    "string = \"physics wallah\"\n",
    "vowels = \"aeiouAEIOU\"\n",
    "numbers = sum(string.vowel) for vowel in vowels)\n",
    "print(numbers)"
   ]
  },
  {
   "cell_type": "code",
   "execution_count": null,
   "id": "8aafc363-70c6-4928-92e2-ed05b0b9d315",
   "metadata": {},
   "outputs": [],
   "source": []
  }
 ],
 "metadata": {
  "kernelspec": {
   "display_name": "Python 3 (ipykernel)",
   "language": "python",
   "name": "python3"
  },
  "language_info": {
   "codemirror_mode": {
    "name": "ipython",
    "version": 3
   },
   "file_extension": ".py",
   "mimetype": "text/x-python",
   "name": "python",
   "nbconvert_exporter": "python",
   "pygments_lexer": "ipython3",
   "version": "3.10.8"
  }
 },
 "nbformat": 4,
 "nbformat_minor": 5
}
